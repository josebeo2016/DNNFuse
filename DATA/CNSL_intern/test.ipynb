{
 "cells": [
  {
   "cell_type": "code",
   "execution_count": 1,
   "metadata": {},
   "outputs": [],
   "source": [
    "import pandas as pd\n",
    "import numpy as np\n",
    "from tqdm import tqdm"
   ]
  },
  {
   "cell_type": "code",
   "execution_count": 2,
   "metadata": {},
   "outputs": [],
   "source": [
    "# read meta_norm.csv\n",
    "df = pd.read_csv('meta_norm.csv')\n"
   ]
  },
  {
   "cell_type": "code",
   "execution_count": 6,
   "metadata": {},
   "outputs": [
    {
     "data": {
      "text/plain": [
       "Male           1162\n",
       "Female          694\n",
       "Female+Male      10\n",
       "Name: Gender, dtype: int64"
      ]
     },
     "execution_count": 6,
     "metadata": {},
     "output_type": "execute_result"
    }
   ],
   "source": [
    "df['Gender'].value_counts()"
   ]
  },
  {
   "cell_type": "code",
   "execution_count": 6,
   "metadata": {},
   "outputs": [
    {
     "name": "stderr",
     "output_type": "stream",
     "text": [
      "100%|██████████| 1866/1866 [00:00<00:00, 51757.90it/s]\n"
     ]
    }
   ],
   "source": [
    "# make protocol.txt\n",
    "with open('protocol.txt', 'w') as f:\n",
    "    for i in tqdm(range(len(df))):\n",
    "    # for i in tqdm(range(100)):\n",
    "        # get utt column value\n",
    "        utt = df['utt'].values[i]\n",
    "        label = df['label'].values[i]\n",
    "        path = 'real/'+utt if label == 'bonafide' else 'fake/'+utt\n",
    "        path = path + '.wav'\n",
    "        category = df['Gender'].values[i]\n",
    "        f.write('{} eval {} {}\\n'.format(path, category, label))"
   ]
  }
 ],
 "metadata": {
  "kernelspec": {
   "display_name": "py39",
   "language": "python",
   "name": "python3"
  },
  "language_info": {
   "codemirror_mode": {
    "name": "ipython",
    "version": 3
   },
   "file_extension": ".py",
   "mimetype": "text/x-python",
   "name": "python",
   "nbconvert_exporter": "python",
   "pygments_lexer": "ipython3",
   "version": "3.9.13"
  }
 },
 "nbformat": 4,
 "nbformat_minor": 2
}
